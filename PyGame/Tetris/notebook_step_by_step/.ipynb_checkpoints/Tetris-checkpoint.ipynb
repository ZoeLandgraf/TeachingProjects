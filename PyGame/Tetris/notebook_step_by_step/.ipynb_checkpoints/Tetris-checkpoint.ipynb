{
 "cells": [
  {
   "cell_type": "markdown",
   "metadata": {},
   "source": [
    "<h1>PROGRAMMING TETRIS<h1>"
   ]
  },
  {
   "cell_type": "code",
   "execution_count": null,
   "metadata": {},
   "outputs": [],
   "source": [
    "# Libraries required\n",
    "import pygame\n",
    "import random\n",
    "import numpy as np\n",
    "pygame.font.init()"
   ]
  },
  {
   "cell_type": "markdown",
   "metadata": {},
   "source": [
    "First, let's define the datastructures for our setting.\n",
    "\n",
    "How do we represent our playground? It has to be a regular grid, so let's use a\n",
    "multidimensional array in python to represent it"
   ]
  },
  {
   "cell_type": "code",
   "execution_count": null,
   "metadata": {},
   "outputs": [],
   "source": [
    "def create_grid(x, y, locked_positions={}):\n",
    "    grid = [[(0, 0, 0) for _ in range(x)] for _ in range(y)]\n",
    "\n",
    "    for i in range(len(grid)):\n",
    "        for j in range(len(grid[i])):\n",
    "            if (j, i) in locked_positions:\n",
    "                c = locked_positions[(j, i)]\n",
    "                grid[i][j] = c\n",
    "    return grid"
   ]
  },
  {
   "cell_type": "markdown",
   "metadata": {},
   "source": [
    "This function does exactly what the name says, it creates a grid \n",
    "of dimensions x and y and returns it. But what's the variable locked_positions all about?\n",
    "<i>locked_positions<i> will hold the positions which are \"locked\" by the presence of a piece in our game. The positions are represented by indices into the grid (j,i) (j - for the column, i - for the row). <i>ocked_positions<i> is a dictionary, where you can look up the colour c corresponding to every (j,i) position in the grid."
   ]
  },
  {
   "cell_type": "code",
   "execution_count": null,
   "metadata": {},
   "outputs": [],
   "source": [
    "# Let's call our function:\n",
    "\n",
    "# define x and y\n",
    "x = 10\n",
    "y = 20\n",
    "\n",
    "# let's create an empty dictionary for now, as we have no pieces in our game yet\n",
    "locked_positions = {}\n",
    "\n",
    "grid = create_grid(x,y,locked_positions)\n",
    "\n"
   ]
  },
  {
   "cell_type": "markdown",
   "metadata": {},
   "source": [
    "Now we created our grid! In order to visualize it, we need to create the rest of our gaming environment"
   ]
  },
  {
   "cell_type": "code",
   "execution_count": null,
   "metadata": {},
   "outputs": [],
   "source": [
    "# Using pygame to create a window and initialiize it\n",
    "s_width = 800\n",
    "s_height = 800\n",
    "\n",
    "win = pygame.display.set_mode((s_width, s_height))\n",
    "pygame.display.init()\n",
    "\n",
    "# Setting the caption of our game\n",
    "pygame.display.set_caption('Tetris')"
   ]
  },
  {
   "cell_type": "markdown",
   "metadata": {},
   "source": [
    "How do we render this? For the game window to continously appear on our screen and change over time, we need to display it using a loop. We will implement this loop inside a function called main:"
   ]
  },
  {
   "cell_type": "code",
   "execution_count": null,
   "metadata": {},
   "outputs": [],
   "source": [
    "def main(win):\n",
    "\n",
    "    while True:\n",
    "        # Filling the window with black (0,0,0) pixels\n",
    "        win.fill((0, 0, 0))\n",
    "\n",
    "        pygame.display.update()\n",
    "        for event in pygame.event.get():\n",
    "            if event.type == pygame.QUIT:\n",
    "                # run = False\n",
    "                break;\n",
    "\n",
    "    pygame.quit()"
   ]
  },
  {
   "cell_type": "markdown",
   "metadata": {},
   "source": [
    "Next, let's call this function to display our game window"
   ]
  },
  {
   "cell_type": "code",
   "execution_count": null,
   "metadata": {},
   "outputs": [],
   "source": [
    "main(win)"
   ]
  },
  {
   "cell_type": "markdown",
   "metadata": {},
   "source": [
    "You should see a black window:\n",
    "<img src=Images/empty_tetris_bg.png width=\"400\">\n"
   ]
  },
  {
   "cell_type": "markdown",
   "metadata": {},
   "source": [
    "In a next step, let's create our grid"
   ]
  },
  {
   "cell_type": "code",
   "execution_count": null,
   "metadata": {},
   "outputs": [],
   "source": [
    "# Variables to define the dimensions of our game display\n",
    "s_width = 800\n",
    "s_height = 700\n",
    "play_width = 300  # meaning 300 // 10 = 30 width per block\n",
    "play_height = 600  # meaning 600 // 20 = 20 height per block\n",
    "block_size = 30\n",
    "\n",
    "top_left_x = (s_width - play_width) // 2\n",
    "top_left_y = s_height - play_height"
   ]
  },
  {
   "cell_type": "markdown",
   "metadata": {},
   "source": [
    "We now need two functions to draw our window and our grid on top of it"
   ]
  },
  {
   "cell_type": "code",
   "execution_count": null,
   "metadata": {},
   "outputs": [],
   "source": [
    "def draw_grid(surface, row, col):\n",
    "    sx = top_left_x\n",
    "    sy = top_left_y\n",
    "    for i in range(row):\n",
    "        pygame.draw.line(surface, (128, 128, 128), (sx, sy + i * 30),\n",
    "                         (sx + play_width, sy + i * 30))  # horizontal lines\n",
    "        for j in range(col):\n",
    "            pygame.draw.line(surface, (128, 128, 128), (sx + j * 30, sy),\n",
    "                             (sx + j * 30, sy + play_height))  # vertical lines"
   ]
  },
  {
   "cell_type": "code",
   "execution_count": null,
   "metadata": {},
   "outputs": [],
   "source": [
    "def draw_window(surface):\n",
    "    surface.fill((0, 0, 0))\n",
    "    # Tetris Title\n",
    "    font = pygame.font.SysFont('comicsans ', 60)\n",
    "    label = font.render('TETRIS ', 1, (255, 255, 255))\n",
    "\n",
    "    surface.blit(label, (top_left_x + play_width / 2 - (label.get_width() / 2), 30))\n",
    "\n",
    "    for i in range(len(grid)):\n",
    "        for j in range(len(grid[i])):\n",
    "            pygame.draw.rect(surface, grid[i][j], (top_left_x + j * 30, top_left_y + i * 30, 30, 30), 0)\n",
    "\n",
    "    # draw grid and border\n",
    "    draw_grid(surface, 20, 10)\n",
    "    pygame.draw.rect(surface, (255, 0, 0), (top_left_x, top_left_y, play_width, play_height), 5)"
   ]
  },
  {
   "cell_type": "code",
   "execution_count": null,
   "metadata": {},
   "outputs": [],
   "source": [
    "def main_menu(win):\n",
    "\n",
    "    while True:\n",
    "        win.fill((0, 0, 0))\n",
    "        draw_window(win)\n",
    "        pygame.display.update()\n",
    "        for event in pygame.event.get():\n",
    "            if event.type == pygame.QUIT:\n",
    "                # run = False\n",
    "                break;\n",
    "\n",
    "    pygame.quit()"
   ]
  },
  {
   "cell_type": "code",
   "execution_count": null,
   "metadata": {},
   "outputs": [],
   "source": [
    "# Let's test our window\n",
    "\n",
    "main_menu(win)"
   ]
  },
  {
   "cell_type": "markdown",
   "metadata": {},
   "source": [
    "You should see something like this:\n",
    "<img src=Images/grid_tetris_bg.png width=\"400\">"
   ]
  },
  {
   "cell_type": "markdown",
   "metadata": {},
   "source": [
    "Now we have a window which displays our grid until we quit it. Next, we need to write our game"
   ]
  },
  {
   "cell_type": "code",
   "execution_count": null,
   "metadata": {},
   "outputs": [],
   "source": [
    "# Let's define the datastructure which holds our shapes\n",
    "\n",
    "# SHAPE FORMATS\n",
    "\n",
    "S = [['.....',\n",
    "    '......',\n",
    "    '..00..',\n",
    "    '.00...',\n",
    "    '.....'],\n",
    "    ['.....',\n",
    "    '..0..',\n",
    "    '..00.',\n",
    "    '...0.',\n",
    "    '.....']]\n",
    "\n",
    "Z = [['.....',\n",
    "'..... ',\n",
    " '.00.. ',\n",
    " '..00. ',\n",
    " '..... '],\n",
    "[ '..... ',\n",
    " '..0.. ',\n",
    " '.00.. ',\n",
    " '.0... ',\n",
    " '..... ']]\n",
    "\n",
    "I = [[ '..0.. ',\n",
    " '..0.. ',\n",
    " '..0.. ',\n",
    " '..0.. ',\n",
    " '..... '],\n",
    "[ '..... ',\n",
    " '0000. ',\n",
    " '..... ',\n",
    " '..... ',\n",
    " '..... ']]\n",
    "\n",
    "O = [[ '..... ',\n",
    " '..... ',\n",
    " '.00.. ',\n",
    " '.00.. ',\n",
    " '..... ']]\n",
    "\n",
    "J = [[ '..... ',\n",
    " '.0... ',\n",
    " '.000. ',\n",
    " '..... ',\n",
    " '..... '],\n",
    "[ '..... ',\n",
    " '..00. ',\n",
    " '..0.. ',\n",
    " '..0.. ',\n",
    " '..... '],\n",
    "[ '..... ',\n",
    " '..... ',\n",
    " '.000. ',\n",
    " '...0. ',\n",
    " '..... '],\n",
    "[ '..... ',\n",
    " '..0.. ',\n",
    " '..0.. ',\n",
    " '.00.. ',\n",
    " '..... ']]\n",
    "\n",
    "L = [[ '..... ',\n",
    " '...0. ',\n",
    " '.000. ',\n",
    " '..... ',\n",
    " '..... '],\n",
    "[ '..... ',\n",
    " '..0.. ',\n",
    " '..0.. ',\n",
    " '..00. ',\n",
    " '..... '],\n",
    "[ '..... ',\n",
    " '..... ',\n",
    " '.000. ',\n",
    " '.0... ',\n",
    " '..... '],\n",
    "[ '..... ',\n",
    " '.00.. ',\n",
    " '..0.. ',\n",
    " '..0.. ',\n",
    " '..... ']]\n",
    "\n",
    "T = [[ '..... ',\n",
    " '..0.. ',\n",
    " '.000. ',\n",
    " '..... ',\n",
    " '..... '],\n",
    "[ '..... ',\n",
    " '..0.. ',\n",
    " '..00. ',\n",
    " '..0.. ',\n",
    " '..... '],\n",
    "[ '..... ',\n",
    " '..... ',\n",
    " '.000. ',\n",
    " '..0.. ',\n",
    " '..... '],\n",
    "[ '..... ',\n",
    " '..0.. ',\n",
    " '.00.. ',\n",
    " '..0.. ',\n",
    " '..... ']]\n",
    "\n",
    "shapes = [S, Z, I, O, J, L, T]\n",
    "shape_colors = [(0, 255, 0), (255, 0, 0), (0, 255, 255), (255, 255, 0), (255, 165, 0), (0, 0, 255), (128, 0, 128)]"
   ]
  },
  {
   "cell_type": "markdown",
   "metadata": {},
   "source": [
    "The shapes will look like this:\n",
    "<img src=Images/Shapes.png width=\"400\">"
   ]
  },
  {
   "cell_type": "markdown",
   "metadata": {},
   "source": [
    "Next, we need to creating the piece class. This is an object which will hold information about every piece in our game. You can think of it like a template which defines the properties such as teh position (x,y) and the color and shape of every piece"
   ]
  },
  {
   "cell_type": "code",
   "execution_count": null,
   "metadata": {},
   "outputs": [],
   "source": [
    "class Piece(object):\n",
    "    rows = 20  # y\n",
    "    columns = 10  # x\n",
    "\n",
    "    def __init__(self, column, row, shape):\n",
    "        self.x = column\n",
    "        self.y = row\n",
    "        self.shape = shape\n",
    "        self.color = shape_colors[shapes.index(shape)]\n",
    "        self.rotation = 0  # number from 0-3"
   ]
  },
  {
   "cell_type": "markdown",
   "metadata": {},
   "source": [
    "In a next step, we need to add the main function \"play_tetris\" to the window rendering function. This function will be the place where we define the rules of our game"
   ]
  },
  {
   "cell_type": "code",
   "execution_count": null,
   "metadata": {},
   "outputs": [],
   "source": [
    "def draw_text_middle(text, size, color, surface):\n",
    "    font = pygame.font.SysFont('comicsans', size, bold=True)\n",
    "    label = font.render(text, 1, color)\n",
    "\n",
    "    surface.blit(label, (top_left_x + play_width / 2 - (label.get_width() / 2),\n",
    "                         top_left_y + play_height / 2 - label.get_height() / 2))\n",
    "\n",
    "def main(win):\n",
    "\n",
    "    while True:\n",
    "        win.fill((0, 0, 0))\n",
    "        #draw_text_middle('Press any key to begin. ', 60, (255, 255, 255), win)\n",
    "        pygame.display.update()\n",
    "        play_tetris(win)\n",
    "        for event in pygame.event.get():\n",
    "            if event.type == pygame.QUIT:\n",
    "                # run = False\n",
    "                break;\n",
    "            \n",
    "            # This is where we start our game!\n",
    "            if event.type == pygame.KEYDOWN:\n",
    "                play_tetris()\n",
    "                \n",
    "    pygame.quit()"
   ]
  },
  {
   "cell_type": "markdown",
   "metadata": {},
   "source": [
    "What do we need to play our game?\n",
    "\n",
    "First of all we need pieces that appear on the grid and fall down\n",
    "\n",
    "The effect of falling down is achieved by creating a new grid over and over again (in a loop) with the pieces displaced at different positions. For this, we will define a function called \n",
    "\"draw_grid\", that takes as an input the occupied positions which it will draw on the empty black tetris background"
   ]
  },
  {
   "cell_type": "code",
   "execution_count": null,
   "metadata": {},
   "outputs": [],
   "source": [
    "def create_grid(occupied_positions={}):\n",
    "    grid = [[(0, 0, 0) for x in range(10)] for x in range(20)]\n",
    "\n",
    "    for i in range(len(grid)):\n",
    "        for j in range(len(grid[i])):\n",
    "            if (j, i) in occupied_positions:\n",
    "                c = occupied_positions[(j, i)]\n",
    "                grid[i][j] = c\n",
    "    return grid"
   ]
  },
  {
   "cell_type": "markdown",
   "metadata": {},
   "source": [
    "Next, we need a function which gives us a random shape"
   ]
  },
  {
   "cell_type": "code",
   "execution_count": null,
   "metadata": {},
   "outputs": [],
   "source": [
    "def get_shape():\n",
    "    global shapes, shape_colors\n",
    "    return Piece(5, 0, random.choice(shapes))"
   ]
  },
  {
   "cell_type": "markdown",
   "metadata": {},
   "source": [
    "We will call this function every time we need a new shape"
   ]
  },
  {
   "cell_type": "markdown",
   "metadata": {},
   "source": [
    "We also need a function which places the shape on the grid"
   ]
  },
  {
   "cell_type": "code",
   "execution_count": null,
   "metadata": {},
   "outputs": [],
   "source": [
    "def place_shape_on_grid(shape):\n",
    "    positions = []\n",
    "    format = shape.shape[shape.rotation % len(shape.shape)]\n",
    "\n",
    "    for i, line in enumerate(format):\n",
    "        row = list(line)\n",
    "        for j, column in enumerate(row):\n",
    "            if column ==  '0':\n",
    "                positions.append((shape.x + j, shape.y + i))\n",
    "\n",
    "\n",
    "    for i, pos in enumerate(positions):\n",
    "        positions[i] = (pos[0] - 2, pos[1] - 4)\n",
    "\n",
    "    return positions"
   ]
  },
  {
   "cell_type": "markdown",
   "metadata": {},
   "source": [
    "On to our main play_tetris function!"
   ]
  },
  {
   "cell_type": "code",
   "execution_count": null,
   "metadata": {},
   "outputs": [],
   "source": [
    "def play_tetris(win):\n",
    "    \n",
    "    global grid\n",
    "\n",
    "    occupied_positions = {}\n",
    "    grid = create_grid(occupied_positions)\n",
    "\n",
    "    run = True\n",
    "    current_piece = get_shape()\n",
    "    next_piece = get_shape()\n",
    "    \n",
    "    while run:\n",
    "        \n",
    "        shape_pos = place_shape_on_grid(current_piece)\n",
    "        # add piece to the grid for drawing\n",
    "        for i in range(len(shape_pos)):\n",
    "            x, y = shape_pos[i]\n",
    "            if y > -1:\n",
    "                grid[y][x] = current_piece.color\n",
    "\n",
    "        draw_window(win)\n",
    "        pygame.display.update()\n",
    "        \n",
    "        for event in pygame.event.get():\n",
    "            if event.type == pygame.QUIT:\n",
    "                # run = False\n",
    "                break;\n"
   ]
  },
  {
   "cell_type": "code",
   "execution_count": null,
   "metadata": {},
   "outputs": [],
   "source": [
    "main_menu(win)"
   ]
  },
  {
   "cell_type": "markdown",
   "metadata": {},
   "source": [
    "Now you should see the following window\n",
    "<img src=Images/tetris_with_piece.png width=\"400\">"
   ]
  },
  {
   "cell_type": "markdown",
   "metadata": {},
   "source": []
  },
  {
   "cell_type": "markdown",
   "metadata": {},
   "source": [
    "Moving the shape down the grid"
   ]
  },
  {
   "cell_type": "code",
   "execution_count": null,
   "metadata": {},
   "outputs": [],
   "source": [
    "def play_tetris(win):\n",
    "    \n",
    "    global grid\n",
    "\n",
    "    occupied_positions = {}\n",
    "    grid = create_grid(occupied_positions)\n",
    "\n",
    "    run = True\n",
    "    current_piece = get_shape()\n",
    "    next_piece = get_shape()\n",
    "    \n",
    "    while run:\n",
    "        \n",
    "        counter += 1\n",
    "        # Move Shape down the grid\n",
    "        if counter > threshold:\n",
    "            current_piece.y += 1\n",
    "            counter = 0\n",
    "        \n",
    "        #Don't forget to update the shape's position\n",
    "        shape_pos = place_shape_on_grid(current_piece)\n",
    "        # add piece to the grid for drawing\n",
    "        for i in range(len(shape_pos)):\n",
    "            x, y = shape_pos[i]\n",
    "            if y > -1:\n",
    "                grid[y][x] = current_piece.color\n",
    "\n",
    "        draw_window(win)\n",
    "        pygame.display.update()\n",
    "        \n",
    "        for event in pygame.event.get():\n",
    "            if event.type == pygame.QUIT:\n",
    "                # run = False\n",
    "                break;"
   ]
  },
  {
   "cell_type": "markdown",
   "metadata": {},
   "source": [
    "You will now see shapes moving down the screen, but: They don't stop at the bottom! We need to ensure the piece does not leave the board. We will do this using the following function\n"
   ]
  },
  {
   "cell_type": "code",
   "execution_count": null,
   "metadata": {},
   "outputs": [],
   "source": [
    "def valid_space(shape, grid):\n",
    "    accepted_positions = [[(j, i) for j in range(10) if grid[i][j] == (0, 0, 0)] for i in range(20)]\n",
    "    accepted_positions = [j for sub in accepted_positions for j in sub]\n",
    "    formatted = convert_shape_format(shape)\n",
    "\n",
    "    for pos in formatted:\n",
    "        if pos not in accepted_positions:\n",
    "            if pos[1] > -1:\n",
    "                return False\n",
    "\n",
    "    return True"
   ]
  },
  {
   "cell_type": "markdown",
   "metadata": {},
   "source": [
    "Now we can use this function to ensure that our piece doesn't leave the bottom"
   ]
  },
  {
   "cell_type": "code",
   "execution_count": null,
   "metadata": {},
   "outputs": [],
   "source": [
    "def play_tetris(win):\n",
    "    \n",
    "    global grid\n",
    "\n",
    "    occupied_positions = {}\n",
    "    grid = create_grid(occupied_positions)\n",
    "\n",
    "    run = True\n",
    "    current_piece = get_shape()\n",
    "    next_piece = get_shape()\n",
    "    \n",
    "    counter = 0\n",
    "    threshold = 5\n",
    "    moving_shape_down = False\n",
    "    \n",
    "    change_piece = False\n",
    "    \n",
    "    while run:\n",
    "        \n",
    "        grid = create_grid(occupied_positions)\n",
    "        \n",
    "        counter += 1\n",
    "        # Move Shape down the grid\n",
    "        if counter > threshold:\n",
    "            current_piece.y += 1\n",
    "            counter = 0\n",
    "             # moving_shape_down = False\n",
    "        \n",
    "        # check that if we have hit the ground\n",
    "        if moving_shape_down:\n",
    "            if not (valid_space(current_piece, grid)) and current_piece.y > 0:\n",
    "                current_piece.y -= 1\n",
    "                # when a piece hits the bottom we need to change piece to a new piece\n",
    "                change_piece = True\n",
    "      \n",
    "       \n",
    "        \n",
    "        shape_pos = place_shape_on_grid(current_piece)\n",
    "        # add piece to the grid for drawing\n",
    "        for i in range(len(shape_pos)):\n",
    "            x, y = shape_pos[i]\n",
    "            if y > -1:\n",
    "                grid[y][x] = current_piece.color\n",
    "                \n",
    "                \n",
    "        \n",
    "\n",
    "        draw_window(win)\n",
    "        pygame.display.update()\n",
    "        \n",
    "        for event in pygame.event.get():\n",
    "            if event.type == pygame.QUIT:\n",
    "                # run = False\n",
    "                break;# IF PIECE HIT GROUND\n",
    "        "
   ]
  },
  {
   "cell_type": "markdown",
   "metadata": {},
   "source": [
    "We now have one piece moving down, and staying there. But how do we get another piece? We define a variable <b>change_piece</b> and use it to select another piece using our get_shape function"
   ]
  },
  {
   "cell_type": "code",
   "execution_count": null,
   "metadata": {},
   "outputs": [],
   "source": [
    "def play_tetris(win):\n",
    "    \n",
    "    global grid\n",
    "\n",
    "    occupied_positions = {}\n",
    "    grid = create_grid(occupied_positions)\n",
    "\n",
    "    run = True\n",
    "    current_piece = get_shape()\n",
    "    next_piece = get_shape()\n",
    "    \n",
    "    counter = 0\n",
    "    threshold = 5\n",
    "    moving_shape_down = False\n",
    "    \n",
    "    change_piece = False\n",
    "    \n",
    "    while run:\n",
    "        \n",
    "        grid = create_grid(occupied_positions)\n",
    "        \n",
    "        counter += 1\n",
    "        # Move Shape down the grid\n",
    "        if counter > threshold:\n",
    "            current_piece.y += 1\n",
    "            counter = 0\n",
    "             # moving_shape_down = False\n",
    "        \n",
    "        # check that if we have hit the ground\n",
    "        if moving_shape_down:\n",
    "            if not (valid_space(current_piece, grid)) and current_piece.y > 0:\n",
    "                current_piece.y -= 1\n",
    "                # when a piece hits the bottom we need to change piece to a new piece\n",
    "                change_piece = True\n",
    "      \n",
    "       \n",
    "        \n",
    "        shape_pos = place_shape_on_grid(current_piece)\n",
    "        # add piece to the grid for drawing\n",
    "        for i in range(len(shape_pos)):\n",
    "            x, y = shape_pos[i]\n",
    "            if y > -1:\n",
    "                grid[y][x] = current_piece.color\n",
    "                \n",
    "        if change_piece:\n",
    "            print(\"changing piece\")\n",
    "            for pos in shape_pos:\n",
    "                p = (pos[0], pos[1])\n",
    "                locked_positions[p] = current_piece.color\n",
    "                \n",
    "            # update the piece\n",
    "            current_piece = next_piece\n",
    "            next_piece = get_shape()\n",
    "            \n",
    "            # set change piece to False\n",
    "            change_piece = False\n",
    "        \n",
    "\n",
    "        draw_window(win)\n",
    "        pygame.display.update()\n",
    "        \n",
    "        for event in pygame.event.get():\n",
    "            if event.type == pygame.QUIT:\n",
    "                # run = False\n",
    "                break;# IF PIECE HIT GROUND\n",
    "        "
   ]
  },
  {
   "cell_type": "markdown",
   "metadata": {},
   "source": [
    "We now have a nearly functioning Tetris game with shapes moving down the grid and stopping at the bottom. \n",
    "Next, we need to clear the rows when we completed them and log our score.\n",
    "Let's start with clearing the rows."
   ]
  },
  {
   "cell_type": "code",
   "execution_count": null,
   "metadata": {},
   "outputs": [],
   "source": [
    "def clear_rows(grid, locked):\n",
    "    # need to see if row is clear the shift every other row above down one\n",
    "\n",
    "    inc = 0\n",
    "    for i in range(len(grid) - 1, -1, -1):\n",
    "        row = grid[i]\n",
    "        if (0, 0, 0) not in row:\n",
    "            inc += 1\n",
    "            # add positions to remove from locked\n",
    "            ind = i\n",
    "            for j in range(len(row)):\n",
    "                try:\n",
    "                    del locked[(j, i)]\n",
    "                except:\n",
    "                    continue\n",
    "    if inc > 0:\n",
    "        for key in sorted(list(locked), key=lambda x: x[1])[::-1]:\n",
    "            x, y = key\n",
    "            if y < ind:\n",
    "                newKey = (x, y + inc)\n",
    "                locked[newKey] = locked.pop(key)"
   ]
  },
  {
   "cell_type": "markdown",
   "metadata": {},
   "source": [
    "Where do we call this function? "
   ]
  },
  {
   "cell_type": "code",
   "execution_count": null,
   "metadata": {},
   "outputs": [],
   "source": [
    "def play_tetris(win):\n",
    "    \n",
    "    global grid\n",
    "\n",
    "    occupied_positions = {}\n",
    "    grid = create_grid(occupied_positions)\n",
    "\n",
    "    run = True\n",
    "    current_piece = get_shape()\n",
    "    next_piece = get_shape()\n",
    "    \n",
    "    counter = 0\n",
    "    threshold = 5\n",
    "    moving_shape_down = False\n",
    "    \n",
    "    change_piece = False\n",
    "    \n",
    "    while run:\n",
    "        \n",
    "        grid = create_grid(occupied_positions)\n",
    "        \n",
    "        counter += 1\n",
    "        # Move Shape down the grid\n",
    "        if counter > threshold:\n",
    "            current_piece.y += 1\n",
    "            counter = 0\n",
    "             # moving_shape_down = False\n",
    "        \n",
    "        # check that if we have hit the ground\n",
    "        if moving_shape_down:\n",
    "            if not (valid_space(current_piece, grid)) and current_piece.y > 0:\n",
    "                current_piece.y -= 1\n",
    "                # when a piece hits the bottom we need to change piece to a new piece\n",
    "                change_piece = True\n",
    "        \n",
    "        # Don't forget to update the shape's position\n",
    "       \n",
    "        \n",
    "        shape_pos = place_shape_on_grid(current_piece)\n",
    "        # add piece to the grid for drawing\n",
    "        for i in range(len(shape_pos)):\n",
    "            x, y = shape_pos[i]\n",
    "            if y > -1:\n",
    "                grid[y][x] = current_piece.color\n",
    "                \n",
    "                \n",
    "        if change_piece:\n",
    "            print(\"changing piece\")\n",
    "            for pos in shape_pos:\n",
    "                p = (pos[0], pos[1])\n",
    "                locked_positions[p] = current_piece.color\n",
    "                \n",
    "            # update the piece\n",
    "            current_piece = next_piece\n",
    "            next_piece = get_shape()\n",
    "            \n",
    "            # set change piece to False\n",
    "            change_piece = False\n",
    "\n",
    "            # clear rows if a row is full\n",
    "            clear_rows(grid, locked_positions)\n",
    "\n",
    "        draw_window(win)\n",
    "        pygame.display.update()\n",
    "        \n",
    "        for event in pygame.event.get():\n",
    "            if event.type == pygame.QUIT:\n",
    "                # run = False\n",
    "                break;# IF PIECE HIT GROUND"
   ]
  },
  {
   "cell_type": "markdown",
   "metadata": {},
   "source": [
    "How could we use this function to log our score? We can modify the clear rows function to log the number of rows it clears and return the sum"
   ]
  },
  {
   "cell_type": "code",
   "execution_count": null,
   "metadata": {},
   "outputs": [],
   "source": [
    "def clear_rows(grid, locked):\n",
    "    # need to see if row is clear the shift every other row above down one\n",
    "\n",
    "    inc = 0\n",
    "    number_of_rows_cleared = 0\n",
    "    for i in range(len(grid) - 1, -1, -1):\n",
    "        row = grid[i]\n",
    "        if (0, 0, 0) not in row:\n",
    "            inc += 1\n",
    "            number_of_rows_cleared +=1\n",
    "            # add positions to remove from locked\n",
    "            ind = i\n",
    "            for j in range(len(row)):\n",
    "                try:\n",
    "                    del locked[(j, i)]\n",
    "                except:\n",
    "                    continue\n",
    "    if inc > 0:\n",
    "        for key in sorted(list(locked), key=lambda x: x[1])[::-1]:\n",
    "            x, y = key\n",
    "            if y < ind:\n",
    "                newKey = (x, y + inc)\n",
    "                locked[newKey] = locked.pop(key)\n",
    "                \n",
    "    return number_of_rows_cleared"
   ]
  },
  {
   "cell_type": "markdown",
   "metadata": {},
   "source": [
    "And in our main code base, we can now log the score using the return from our clear_rows function as follows:"
   ]
  },
  {
   "cell_type": "code",
   "execution_count": null,
   "metadata": {},
   "outputs": [],
   "source": [
    "def play_tetris(win):\n",
    "    global grid\n",
    "\n",
    "    locked_positions = {}\n",
    "    grid = create_grid(locked_positions)\n",
    "\n",
    "    current_piece = get_shape()\n",
    "    next_piece = get_shape()\n",
    "\n",
    "    Run = True\n",
    "    counter = 0\n",
    "    delay = 10\n",
    "    change_piece = False\n",
    "    score = 0\n",
    "    level_threshold = 1\n",
    "\n",
    "    while (Run == True):\n",
    "\n",
    "        grid = create_grid(locked_positions)\n",
    "\n",
    "        counter += 1\n",
    "\n",
    "        if score > level_threshold:\n",
    "            delay -= 2\n",
    "            level_threshold += 2\n",
    "\n",
    "\n",
    "        if counter == delay:\n",
    "            current_piece.y += 1\n",
    "            counter = 0\n",
    "            # the following code is to prevent the piece from going off the grid\n",
    "            # valid_space = if the shape is on the grid\n",
    "            if not valid_space(current_piece, grid) and current_piece.y > 0:\n",
    "                current_piece.y -= 1\n",
    "                change_piece = True\n",
    "\n",
    "\n",
    "        for event in pygame.event.get():\n",
    "            if event.type == pygame.QUIT:\n",
    "                Run = False\n",
    "                pygame.display.quit()\n",
    "                quit()\n",
    "            if event.type == pygame.KEYDOWN:\n",
    "                if event.key == pygame.K_LEFT:\n",
    "                    current_piece.x -= 1\n",
    "                    if not valid_space(current_piece, grid):\n",
    "                        current_piece.x += 1\n",
    "\n",
    "                elif event.key == pygame.K_RIGHT:\n",
    "                    current_piece.x += 1\n",
    "                    if not valid_space(current_piece, grid):\n",
    "                        current_piece.x -= 1\n",
    "                elif event.key == pygame.K_UP:\n",
    "                    # rotate shape\n",
    "                    current_piece.rotation = current_piece.rotation + 1 % len(current_piece.shape)\n",
    "                    if not valid_space(current_piece, grid):\n",
    "                        current_piece.rotation = current_piece.rotation - 1 % len(current_piece.shape)\n",
    "\n",
    "                if event.key == pygame.K_DOWN:\n",
    "                    # move shape down\n",
    "                    current_piece.y += 1\n",
    "                    if not valid_space(current_piece, grid):\n",
    "                        current_piece.y -= 1\n",
    "\n",
    "\n",
    "        grid_position = convert_shape_format(current_piece)\n",
    "        grid = draw_piece_on_grid(grid_position, current_piece, grid)\n",
    "\n",
    "\n",
    "        if change_piece:\n",
    "            print(\"changing piece\")\n",
    "            for pos in grid_position:\n",
    "                p = (pos[0], pos[1])\n",
    "                locked_positions[p] = current_piece.color\n",
    "\n",
    "            score += clear_rows(grid, locked_positions)\n",
    "\n",
    "            current_piece = next_piece\n",
    "            next_piece = get_shape()\n",
    "\n",
    "            change_piece = False\n",
    "\n",
    "        if check_lost(locked_positions) == True:\n",
    "            Run = False\n",
    "\n",
    "\n",
    "        draw_window(win)\n",
    "        pygame.display.update()\n",
    "\n",
    "    win.fill((0, 0, 0))\n",
    "    draw_text_middle(\"You lost! Failiure!\", 50, (255, 255, 255), win)\n",
    "    pygame.display.update()\n",
    "    time.sleep(5)"
   ]
  },
  {
   "cell_type": "markdown",
   "metadata": {},
   "source": [
    "Let's draw the score onto our game display"
   ]
  },
  {
   "cell_type": "code",
   "execution_count": null,
   "metadata": {},
   "outputs": [],
   "source": [
    "def draw_text_score (surface, score):\n",
    "    font = pygame.font.SysFont('timesnewroman', 30, bold=False)\n",
    "    label = font.render('score', 1, (255, 255, 255))\n",
    "\n",
    "    sx = top_left_x + play_width + 50\n",
    "    sy = top_left_y + play_height / 2 - 100\n",
    "\n",
    "    surface.blit(label, (sx + 10, sy - 30))\n",
    "\n",
    "    score_value = font.render(str(score), 1, (255, 255, 255))\n",
    "\n",
    "    surface.blit(score_value, (sx + 10, sy - 10))"
   ]
  },
  {
   "cell_type": "code",
   "execution_count": null,
   "metadata": {},
   "outputs": [],
   "source": [
    "def play_tetris(win):\n",
    "    global grid\n",
    "\n",
    "    locked_positions = {}\n",
    "    grid = create_grid(locked_positions)\n",
    "\n",
    "    current_piece = get_shape()\n",
    "    next_piece = get_shape()\n",
    "\n",
    "    Run = True\n",
    "    counter = 0\n",
    "    delay = 10\n",
    "    change_piece = False\n",
    "    score = 0\n",
    "    level_threshold = 1\n",
    "\n",
    "    while (Run == True):\n",
    "\n",
    "        grid = create_grid(locked_positions)\n",
    "\n",
    "        counter += 1\n",
    "\n",
    "        if score > level_threshold:\n",
    "            delay -= 2\n",
    "            level_threshold += 2\n",
    "\n",
    "\n",
    "        if counter == delay:\n",
    "            current_piece.y += 1\n",
    "            counter = 0\n",
    "            # the following code is to prevent the piece from going off the grid\n",
    "            # valid_space = if the shape is on the grid\n",
    "            if not valid_space(current_piece, grid) and current_piece.y > 0:\n",
    "                current_piece.y -= 1\n",
    "                change_piece = True\n",
    "\n",
    "\n",
    "        for event in pygame.event.get():\n",
    "            if event.type == pygame.QUIT:\n",
    "                Run = False\n",
    "                pygame.display.quit()\n",
    "                quit()\n",
    "            if event.type == pygame.KEYDOWN:\n",
    "                if event.key == pygame.K_LEFT:\n",
    "                    current_piece.x -= 1\n",
    "                    if not valid_space(current_piece, grid):\n",
    "                        current_piece.x += 1\n",
    "\n",
    "                elif event.key == pygame.K_RIGHT:\n",
    "                    current_piece.x += 1\n",
    "                    if not valid_space(current_piece, grid):\n",
    "                        current_piece.x -= 1\n",
    "                elif event.key == pygame.K_UP:\n",
    "                    # rotate shape\n",
    "                    current_piece.rotation = current_piece.rotation + 1 % len(current_piece.shape)\n",
    "                    if not valid_space(current_piece, grid):\n",
    "                        current_piece.rotation = current_piece.rotation - 1 % len(current_piece.shape)\n",
    "\n",
    "                if event.key == pygame.K_DOWN:\n",
    "                    # move shape down\n",
    "                    current_piece.y += 1\n",
    "                    if not valid_space(current_piece, grid):\n",
    "                        current_piece.y -= 1\n",
    "\n",
    "\n",
    "        grid_position = convert_shape_format(current_piece)\n",
    "        grid = draw_piece_on_grid(grid_position, current_piece, grid)\n",
    "\n",
    "\n",
    "        if change_piece:\n",
    "            print(\"changing piece\")\n",
    "            for pos in grid_position:\n",
    "                p = (pos[0], pos[1])\n",
    "                locked_positions[p] = current_piece.color\n",
    "\n",
    "            score += clear_rows(grid, locked_positions)\n",
    "\n",
    "            current_piece = next_piece\n",
    "            next_piece = get_shape()\n",
    "\n",
    "            change_piece = False\n",
    "\n",
    "        if check_lost(locked_positions) == True:\n",
    "            Run = False\n",
    "\n",
    "\n",
    "        draw_window(win)\n",
    "        draw_text_score(win, score)\n",
    "        pygame.display.update()\n",
    "\n",
    "    win.fill((0, 0, 0))\n",
    "    draw_text_middle(\"You lost! Failiure!\", 50, (255, 255, 255), win)\n",
    "    pygame.display.update()\n",
    "    time.sleep(5)"
   ]
  },
  {
   "cell_type": "markdown",
   "metadata": {},
   "source": [
    "To help with playing the game, let's draw the next upcoming shape next to our grid"
   ]
  },
  {
   "cell_type": "markdown",
   "metadata": {},
   "source": [
    "Finally, let's add levels to the game"
   ]
  }
 ],
 "metadata": {
  "kernelspec": {
   "display_name": "Python 3",
   "language": "python",
   "name": "python3"
  },
  "language_info": {
   "codemirror_mode": {
    "name": "ipython",
    "version": 3
   },
   "file_extension": ".py",
   "mimetype": "text/x-python",
   "name": "python",
   "nbconvert_exporter": "python",
   "pygments_lexer": "ipython3",
   "version": "3.7.3"
  }
 },
 "nbformat": 4,
 "nbformat_minor": 2
}
