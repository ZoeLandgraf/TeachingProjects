{
 "cells": [
  {
<<<<<<< HEAD
   "attachments": {},
=======
>>>>>>> 7acb4e59d1f749d2b5a3b54b228a4d7b62b12286
   "cell_type": "markdown",
   "metadata": {},
   "source": [
    "# Snake\n",
    "\n",
    "<img src=images/snake_game_intro_pic.png width=\"500\">\n",
    "\n",
    "Thank you for the inspiration: \n",
    "https://pythonspot.com/snake-with-pygame/"
   ]
  },
  {
   "cell_type": "code",
   "execution_count": 18,
   "metadata": {},
   "outputs": [],
   "source": [
    "from pygame.locals import *\n",
    "import pygame"
   ]
  },
  {
   "cell_type": "markdown",
   "metadata": {},
   "source": [
    "Defining the snake class. What should we define our snake class to be? \n",
    "Let's start by thinking about attributes (features of our snake)\n",
    "\n",
    "1) Our snake will be located on the game surface, so it needs a position (x,y)\n",
    "\n",
    "2) Our snake will need a length\n",
    "\n",
    "3) Our snake will need a speed by which it can move across the surface"
   ]
  },
  {
   "cell_type": "code",
   "execution_count": 2,
   "metadata": {},
   "outputs": [],
   "source": [
    "class Snake:\n",
    "    \n",
    "    def __init__(self, \n",
    "                 initial_speed=1,\n",
    "                 initial_position_x = 10,\n",
    "                 initial_position_y = 10):\n",
    "        \n",
    "        self.x = initial_position_x\n",
    "        self.y = initial_position_y\n",
    "        \n",
    "        self.speed_multiplier = 0.1\n",
    "        self.speed = initial_speed\n",
    "        self.step = self.speed_multiplier * self.speed\n",
    "        \n",
    "        self.length = 1"
   ]
  },
  {
   "cell_type": "markdown",
   "metadata": {},
   "source": [
    "Next, our snake should have an appearance. For this we will give it a surface width and height and a color"
   ]
  },
  {
   "cell_type": "code",
   "execution_count": 3,
   "metadata": {},
   "outputs": [],
   "source": [
    "class Snake:\n",
    "    \n",
    "    def __init__(self, \n",
    "                 initial_speed=1,\n",
    "                 initial_position_x = 10,\n",
    "                 initial_position_y = 10):\n",
    "        \n",
    "        self.x = initial_position_x\n",
    "        self.y = initial_position_y\n",
    "        self.speed_multiplier = 0.1\n",
    "        \n",
    "        self.speed = initial_speed\n",
    "        self.step = self.speed_multiplier * self.speed\n",
    "        \n",
    "        self.length = 1\n",
    "        \n",
    "        self.colour = (255,0,0)\n",
    "        self.surface = pygame.Surface([15, 15])\n",
    "        self.surface.fill((255,0,0))"
   ]
  },
  {
   "cell_type": "markdown",
   "metadata": {},
   "source": [
    "Next, our snake will have to be able to move across the surface. For this, we will define member functions (the actions that the snake can take)"
   ]
  },
  {
   "cell_type": "code",
   "execution_count": 4,
   "metadata": {},
   "outputs": [],
   "source": [
    "class Snake:\n",
    "    \n",
    "    def __init__(self, \n",
    "                 initial_speed=1,\n",
    "                 initial_position_x = 10,\n",
    "                 initial_position_y = 10):\n",
    "        \n",
    "        self.x = initial_position_x\n",
    "        self.y = initial_position_y\n",
    "        self.speed_multiplier = 0.1\n",
    "        \n",
    "        self.speed = initial_speed\n",
    "        self.step = self.speed_multiplier * self.speed\n",
    "        \n",
    "        self.length = 1\n",
    "        \n",
    "        self.colour = (255,0,0)\n",
    "        self.surface = pygame.Surface([15, 15])\n",
    "        self.surface.fill((255,0,0))\n",
    "\n",
    "    def moveRight(self):\n",
    "        self.x = self.x + self.step\n",
    "\n",
    "    def moveLeft(self):\n",
    "        self.x = self.x - self.step\n",
    "\n",
    "    def moveUp(self):\n",
    "        self.y = self.y - self.step\n",
    "\n",
    "    def moveDown(self):\n",
    "        self.y = self.y + self.step"
   ]
  },
  {
   "cell_type": "markdown",
   "metadata": {},
   "source": [
    "Let's also add some functions to return the appearance of the snake"
   ]
  },
  {
   "cell_type": "code",
   "execution_count": 22,
   "metadata": {},
   "outputs": [],
   "source": [
    "class Snake:\n",
    "    \n",
    "    def __init__(self, \n",
    "                 initial_speed=1,\n",
    "                 initial_position_x = 10,\n",
    "                 initial_position_y = 10):\n",
    "        \n",
    "        self.x = initial_position_x\n",
    "        self.y = initial_position_y\n",
    "        self.speed_multiplier = 0.1\n",
    "        \n",
    "        self.speed = initial_speed\n",
    "        self.step = self.speed_multiplier * self.speed\n",
    "        \n",
    "        self.length = 1\n",
    "        \n",
    "        self.colour = (255,0,0)\n",
    "        self.surface = pygame.Surface([15, 15])\n",
    "        self.surface.fill((255,0,0))\n",
    "\n",
    "    def moveRight(self):\n",
    "        self.x = self.x + self.step\n",
    "\n",
    "    def moveLeft(self):\n",
    "        self.x = self.x - self.step\n",
    "\n",
    "    def moveUp(self):\n",
    "        self.y = self.y - self.step\n",
    "\n",
    "    def moveDown(self):\n",
    "        self.y = self.y + self.step\n",
    "        \n",
    "    def appearance(self):\n",
    "        return self.surface\n",
    "    \n",
    "    def location(self):\n",
    "        return (self.x, self.y)"
   ]
  },
  {
   "cell_type": "markdown",
   "metadata": {},
   "source": [
    "Now that we have our snake defined, let's place it onto a gaming surface\n",
    "\n",
    "<img src=images/snake_vis_1.png width=\"300\">"
   ]
  },
  {
   "cell_type": "markdown",
   "metadata": {},
   "source": [
    "We will also use a class for our gaming surface, let's call it 'GameSurface'.\n",
    "\n",
    "What attributes will it need?\n",
    "\n",
    "1) A display \n",
    "\n",
    "2) A snake\n",
    "\n",
    "3) Controlling variables to start and stop the game"
   ]
  },
  {
   "cell_type": "code",
   "execution_count": 20,
   "metadata": {},
   "outputs": [],
   "source": [
    "class GameSurface:\n",
    "\n",
    "    def __init__(self, \n",
    "                 initial_speed):\n",
    "        \n",
    "        # display width and height\n",
    "        self.windowWidth = 800\n",
    "        self.windowHeight = 600\n",
    "        \n",
    "        # snake\n",
    "        self.snake = Snake(initial_speed)\n",
    "        \n",
    "        # appearance\n",
    "        self._display_surf = pygame.display.set_mode((self.windowWidth, self.windowHeight), pygame.HWSURFACE)\n",
    "        pygame.display.set_caption('Snake')\n",
    "        \n",
    "        pygame.init()\n",
    "        #control variable to start and stop the game\n",
    "        self._running = True\n",
    "\n",
    "\n",
    "    def check_for_quit(self):\n",
    "        for event in pygame.event.get():\n",
    "                if event.type == pygame.QUIT:\n",
    "                    self._running = False\n",
    "        \n",
    "\n",
    "    def render(self):\n",
    "        self._display_surf.fill((0, 0, 0))\n",
    "        # view snake \n",
    "        snake_appearance = self.snake.appearance()\n",
    "        snake_location = self.snake.location()\n",
    "        self._display_surf.blit(snake_appearance, snake_location)\n",
    "        #updates the display\n",
    "        pygame.display.flip()\n",
    "\n",
    "    def cleanup(self):\n",
    "        pygame.display.quit()\n",
    "        pygame.quit()\n",
    "\n",
    "    def play_game(self):\n",
    "        while (self._running):\n",
    "            pygame.event.pump()\n",
    "            keys = pygame.key.get_pressed()\n",
    "\n",
    "            if (keys[K_RIGHT]):\n",
    "                self.snake.moveRight()\n",
    "\n",
    "            if (keys[K_LEFT]):\n",
    "                self.snake.moveLeft()\n",
    "\n",
    "            if (keys[K_UP]):\n",
    "                self.snake.moveUp()\n",
    "\n",
    "            if (keys[K_DOWN]):\n",
    "                self.snake.moveDown()\n",
    "\n",
    "\n",
    "            self.check_for_quit()\n",
    "            self.render()\n",
    "            \n",
    "            \n",
    "        self.cleanup()"
   ]
  },
  {
   "cell_type": "markdown",
   "metadata": {},
   "source": [
    "Let's test our game state so far"
   ]
  },
  {
   "cell_type": "code",
   "execution_count": 23,
   "metadata": {},
   "outputs": [],
   "source": [
    "our_game = GameSurface(initial_speed=1)\n",
    "our_game.play_game()"
   ]
  }
 ],
 "metadata": {
  "kernelspec": {
   "display_name": "Python 3",
   "language": "python",
   "name": "python3"
  },
  "language_info": {
   "codemirror_mode": {
    "name": "ipython",
    "version": 3
   },
   "file_extension": ".py",
   "mimetype": "text/x-python",
   "name": "python",
   "nbconvert_exporter": "python",
   "pygments_lexer": "ipython3",
<<<<<<< HEAD
   "version": "3.7.4"
=======
   "version": "3.7.3"
>>>>>>> 7acb4e59d1f749d2b5a3b54b228a4d7b62b12286
  }
 },
 "nbformat": 4,
 "nbformat_minor": 2
}
